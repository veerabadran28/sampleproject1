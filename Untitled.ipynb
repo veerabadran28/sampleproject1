{
 "cells": [
  {
   "cell_type": "code",
   "execution_count": 2,
   "id": "eaa18058",
   "metadata": {},
   "outputs": [
    {
     "ename": "PermissionError",
     "evalue": "[WinError 5] Access is denied: 'split_files\\\\pack'",
     "output_type": "error",
     "traceback": [
      "\u001b[1;31m---------------------------------------------------------------------------\u001b[0m",
      "\u001b[1;31mPermissionError\u001b[0m                           Traceback (most recent call last)",
      "Cell \u001b[1;32mIn[2], line 54\u001b[0m\n\u001b[0;32m     51\u001b[0m         os\u001b[38;5;241m.\u001b[39mremove(os\u001b[38;5;241m.\u001b[39mpath\u001b[38;5;241m.\u001b[39mjoin(output_dir, file))\n\u001b[0;32m     53\u001b[0m \u001b[38;5;66;03m# Example usage\u001b[39;00m\n\u001b[1;32m---> 54\u001b[0m split_7z_file(\u001b[38;5;124m'\u001b[39m\u001b[38;5;124mpack.7z\u001b[39m\u001b[38;5;124m'\u001b[39m)\n",
      "Cell \u001b[1;32mIn[2], line 51\u001b[0m, in \u001b[0;36msplit_7z_file\u001b[1;34m(input_7z_file, output_dir, max_size_mb)\u001b[0m\n\u001b[0;32m     49\u001b[0m \u001b[38;5;66;03m# Clean up the extracted files\u001b[39;00m\n\u001b[0;32m     50\u001b[0m \u001b[38;5;28;01mfor\u001b[39;00m file \u001b[38;5;129;01min\u001b[39;00m all_files:\n\u001b[1;32m---> 51\u001b[0m     os\u001b[38;5;241m.\u001b[39mremove(os\u001b[38;5;241m.\u001b[39mpath\u001b[38;5;241m.\u001b[39mjoin(output_dir, file))\n",
      "\u001b[1;31mPermissionError\u001b[0m: [WinError 5] Access is denied: 'split_files\\\\pack'"
     ]
    }
   ],
   "source": [
    "import os\n",
    "import py7zr\n",
    "import math\n",
    "\n",
    "def split_7z_file(input_7z_file, output_dir='split_files', max_size_mb=24):\n",
    "    # Ensure the output directory exists\n",
    "    os.makedirs(output_dir, exist_ok=True)\n",
    "    \n",
    "    # Read the 7z file\n",
    "    with py7zr.SevenZipFile(input_7z_file, mode='r') as z:\n",
    "        all_files = z.getnames()\n",
    "        z.extractall(path=output_dir)\n",
    "\n",
    "    # Calculate the number of parts needed\n",
    "    file_sizes = {file: os.path.getsize(os.path.join(output_dir, file)) for file in all_files}\n",
    "    total_size = sum(file_sizes.values())\n",
    "    num_splits = math.ceil(total_size / (max_size_mb * 1024 * 1024))\n",
    "\n",
    "    # Sort files by size (largest first)\n",
    "    sorted_files = sorted(file_sizes.items(), key=lambda item: item[1], reverse=True)\n",
    "\n",
    "    # Split files into parts\n",
    "    current_part = 1\n",
    "    current_size = 0\n",
    "    current_files = []\n",
    "\n",
    "    for file, size in sorted_files:\n",
    "        if current_size + size > max_size_mb * 1024 * 1024:\n",
    "            # Create a new 7z file for the current part\n",
    "            part_name = os.path.join(output_dir, f'part_{current_part}.7z')\n",
    "            with py7zr.SevenZipFile(part_name, 'w') as archive:\n",
    "                for f in current_files:\n",
    "                    archive.write(os.path.join(output_dir, f), f)\n",
    "            # Prepare for the next part\n",
    "            current_part += 1\n",
    "            current_size = 0\n",
    "            current_files = []\n",
    "\n",
    "        current_files.append(file)\n",
    "        current_size += size\n",
    "\n",
    "    # Create the last part\n",
    "    if current_files:\n",
    "        part_name = os.path.join(output_dir, f'part_{current_part}.7z')\n",
    "        with py7zr.SevenZipFile(part_name, 'w') as archive:\n",
    "            for f in current_files:\n",
    "                archive.write(os.path.join(output_dir, f), f)\n",
    "\n",
    "    # Clean up the extracted files\n",
    "    for file in all_files:\n",
    "        os.remove(os.path.join(output_dir, file))\n",
    "\n",
    "# Example usage\n",
    "split_7z_file('pack.7z')\n"
   ]
  },
  {
   "cell_type": "code",
   "execution_count": 4,
   "id": "58d7487e",
   "metadata": {},
   "outputs": [],
   "source": [
    "import os\n",
    "\n",
    "def split_file(input_file, output_dir='C:\\\\Users\\\\veera\\\\PythonProjects\\\\project1\\\\chatbot1\\\\split_files\\\\bert', chunk_size_mb=24):\n",
    "    # Ensure the output directory exists\n",
    "    os.makedirs(output_dir, exist_ok=True)\n",
    "    \n",
    "    chunk_size = chunk_size_mb * 1024 * 1024  # Convert MB to bytes\n",
    "    \n",
    "    with open(input_file, 'rb') as f:\n",
    "        chunk_number = 0\n",
    "        while True:\n",
    "            chunk = f.read(chunk_size)\n",
    "            if not chunk:\n",
    "                break\n",
    "            chunk_file = os.path.join(output_dir, f'{os.path.basename(input_file)}.part{chunk_number:04d}')\n",
    "            with open(chunk_file, 'wb') as chunk_f:\n",
    "                chunk_f.write(chunk)\n",
    "            chunk_number += 1\n",
    "\n",
    "# Example usage\n",
    "split_file('C:\\\\Users\\\\veera\\\\PythonProjects\\\\project1\\\\chatbot1\\\\split_files\\\\bert\\\\model.safetensors')"
   ]
  },
  {
   "cell_type": "code",
   "execution_count": null,
   "id": "90483267",
   "metadata": {},
   "outputs": [],
   "source": []
  }
 ],
 "metadata": {
  "kernelspec": {
   "display_name": "Python 3 (ipykernel)",
   "language": "python",
   "name": "python3"
  },
  "language_info": {
   "codemirror_mode": {
    "name": "ipython",
    "version": 3
   },
   "file_extension": ".py",
   "mimetype": "text/x-python",
   "name": "python",
   "nbconvert_exporter": "python",
   "pygments_lexer": "ipython3",
   "version": "3.11.7"
  }
 },
 "nbformat": 4,
 "nbformat_minor": 5
}
